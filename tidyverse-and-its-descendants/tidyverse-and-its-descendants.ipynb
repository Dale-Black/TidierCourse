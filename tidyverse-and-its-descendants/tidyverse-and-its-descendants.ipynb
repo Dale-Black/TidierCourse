{
 "cells": [
  {
   "cell_type": "markdown",
   "metadata": {},
   "source": [
    "# Tidier Course: Tidyverse and Its Descendants\n",
    "\n",
    "<img src=\"https://raw.githubusercontent.com/TidierOrg/.github/main/profile/TidierOrg_logo.png\" align=\"left\" style=\"padding-right:10x;\" width=\"150\"/>"
   ]
  },
  {
   "cell_type": "markdown",
   "metadata": {},
   "source": [
    "## What is the tidyverse?\n",
    "\n",
    "Before we dive into Tidier.jl, it's worth understanding a bit about the tidyverse, including what it is and what it's not. This will help in conveying some of the key philosophies and design decisions in Tidier.jl.\n",
    "\n",
    "The tidyverse refers to a collection of R packages that popularized the idea of data pipelines in modern data analysis. The tidyverse is often referred to as a meta-package because while it exists as a single package, its primary role is to re-export a collection of underlying R packages. Many of these underlying packages actually existed before the tidyverse. However, with the formation of the tidyverse, the philosophy and approach underlying these packages were standardized to follow a consistent design and syntax.\n",
    "\n",
    "These underlying packages include but are not limited to the following:\n",
    "\n",
    "- `tibble`: for creating and displaying data frames\n",
    "- `dplyr`: for transforming and summarizing data\n",
    "- `tidyr`: for reshaping data\n",
    "- `readr`: for reading in data\n",
    "- `ggplot2`: for plotting data\n",
    "- `stringr`: for working with strings\n",
    "- `forcats`: for working with categorical variables\n",
    "- `lubridate`: for working with dates\n",
    "\n",
    "One important thing to note is that pretty much all of the capabilities enabled by the tidyverse are already natively supported in base R. In other words, the tidyverse doesn't exist simply because there's no way to accomplish these tasks without it. The tidyverse exists despite the fact that R is perfectly capable of doing each of these tasks.\n",
    "\n",
    "What makes the tidyverse special? In addition to being user-friendly and consistent in its approach across these family of packages, the tidyverse is special because it is *opinionated*. There are intentional design decisions made in the tidyverse that diverge from base R. These design decisions are largely why it is loved by so many (but also why it is disliked by some)."
   ]
  },
  {
   "cell_type": "markdown",
   "metadata": {},
   "source": [
    "## The tidyverse has spawned a number of descendants\n",
    "\n",
    "You might be wondering why so much attention in this course about Tidier.jl to the tidyverse R package upon which it is based. If you think of the tidyverse as *just* an R package, you are greatly underestimating its importance to data analysis across all data science languages.\n",
    "\n",
    "The concepts, syntax, and verbs articulated by the collection of tidyverse packages are so popular that they have been directly implemented in a number of other languages. They've even inspired the creation of entirely new languages like `PRQL`.\n",
    "\n",
    "For example, here are just a few examples of tidyverse implementations in programming languages *other* than R. By \"implementation,\" I mean that the tools actively borrow both syntax and verbs (function names) from the original tidyverse.\n",
    "\n",
    "Tidyverse implementations in Python:\n",
    "\n",
    "- `siuba`: implements `dplyr`, `tidyr`, and a bit of `dbplyr`\n",
    "- `dplython`: implements `dplyr` and `tidyr`\n",
    "- `plydata`: implements `dplyr` and `tidyr`\n",
    "- `tidypolars`: implements `dplyr` and `tidyr`\n",
    "- `plotnine`: implements `ggplot2`\n",
    "\n",
    "Tidyverse implementations in JavaScript:\n",
    "\n",
    "- `tidy.js`: implements `dplyr` and `tidyr`\n",
    "- `DataLib`: implements `dplyr`, although it is no longer actively maintained and has been replaced by `Arquero`` and `dataflow-api`\n",
    "- `cxplot`: implements `ggplot2`\n",
    "\n",
    "If you can do data science in a language, its highly likely that *someone* has tried to implement tidyverse in it."
   ]
  },
  {
   "cell_type": "markdown",
   "metadata": {},
   "source": [
    "## But isn't tidyverse syntax an \"R thing\"?\n",
    "\n",
    "Absolutely not! In fact, people who've used R for many years preceding the tidyverse often are the ones who push back against the tidyverse the most. The tidyverse has popularized a style of programming that is decidedly unique from normal R programming. While most of R uses what's called \"standard evaluation,\" tidyverse embraces \"non-standard evaluation,\" where scoping of variable names is dynamic, enabling a concise style of programming.\n",
    "\n",
    "Let's take a look at the same example we covered in the SQL and PRQL code. Let's compare the mean age among patients with diabetes who take medications versus those who do not take medications:\n",
    "\n",
    "```r\n",
    "patients |>\n",
    "  filter(diagnosis == \"diabetes\") |>\n",
    "  group_by(takes_medications) |>\n",
    "  summarize(age = mean(age))\n",
    "```\n",
    "\n",
    "**Everything** about this code is non-idiomatic in R!\n",
    "\n",
    "The use of pipes (`|>`) is non-idiomatic and was popularized by tidyverse. In fact, tidyverse adopted its own pipe (`%>%`) because there was no pipe built into R. After this pipe became popular, it spawned the adoption of a pipe into base R. The popularity of pipes also brought upon the standardization of the dataframe-in, dataframe-out syntax. Each top-level function takes a data frame as its first argument and returns a data frame, making it easy to chain operations together.\n",
    "\n",
    "How do we know that `diagnosis` refers to a column name and not to a global variable? Dynamic scoping implemented using non-standard evaluation. This code first looks for a column named `diagnosis` in the `patients` data frame, and if it can't be found, *then* it looks for a `diagnosis` variable in the parent environment. Note: there *are* ways to explicitly specify which environment the variable should be pulled from in the tidyverse.\n",
    "\n"
   ]
  },
  {
   "cell_type": "markdown",
   "metadata": {},
   "source": [
    "## What are some of the other implementations in R?\n",
    "\n",
    "*Even in R*, there are multiple implementations of the tidyverse.\n",
    "\n",
    "| R package             | Backend (language)    |\n",
    "|-----------------------|-----------------------|\n",
    "| dtplyr                | data.table (C)        |\n",
    "| tidytable             | data.table (C)        |\n",
    "| tidypolars            | polars (Rust)         |\n",
    "| arrow                 | Arrow (C++)           |\n",
    "| collapse              | C/C++                 |\n",
    "| poorman               | R                     |\n",
    "\n",
    "Why do these implementations exist?\n",
    "\n",
    "Most of these exist because the original tidyverse implementation isn't fast enough. The original implementation of tidyverse (dplyr, specifically) uses C++ as a backend, and you can see here that people have tried to connect up the tidyverse to faster and faster backends to make it more speedy -- a perfect encapsulation of the two-language problem.\n",
    "\n",
    "What I hope you appreciate from this is that in general, people *love* the tidyverse syntax. They do want to use the best and fastest tools, but they want to access these tools using the tidyverse syntax if at all possible -- which often is possible!"
   ]
  },
  {
   "cell_type": "markdown",
   "metadata": {},
   "source": [
    "## The tidyverse is a domain-specific language\n",
    "\n",
    "While its developers emphasize the connection between tidyverse and the larger R ecosystem, the fact that the tidyverse approach has been adopted in other languages, and that multiple implementations of it exist even in R, suggests that the tidyverse is more of a domain-specific language.\n",
    "\n",
    "It's true that the way in which it is implemented in R has historically been unique because of R's extensive meta-programming capabilities. This is why other implementations feel slightly clunky to use as compared to the R implementation.\n",
    "\n",
    "But Julia *also* has very similar meta-programming capabilities, making it the perfect language to port the tidyverse."
   ]
  },
  {
   "cell_type": "markdown",
   "metadata": {},
   "source": [
    "## Summary\n",
    "\n",
    "- The tidyverse is an opinionated collection of packages for data transformation, reshaping, and visualization.\n",
    "- The tidyverse popularized the idea of data pipelines and has spun off a number of other implementations in R, Python, and JavaScript.\n",
    "- The tidyverse is non-idiomatic even in R, so it should be thought of more as a domain-specific language than something specific to R.\n",
    "- Julia has similar meta-programming capabilities to R, making it a perfect language to port the tidyverse."
   ]
  }
 ],
 "metadata": {
  "language_info": {
   "name": "python"
  }
 },
 "nbformat": 4,
 "nbformat_minor": 2
}
