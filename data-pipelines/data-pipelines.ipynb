{
 "cells": [
  {
   "cell_type": "markdown",
   "metadata": {},
   "source": [
    "# Tidier Course: Data Pipelines\n",
    "\n",
    "<img src=\"https://raw.githubusercontent.com/TidierOrg/.github/main/profile/TidierOrg_logo.png\" align=\"left\" style=\"padding-right:10x;\" width=\"150\"/>"
   ]
  },
  {
   "cell_type": "markdown",
   "metadata": {},
   "source": [
    "## The Structured Query Language (SQL)\n",
    "\n",
    "Let's rewind to our benchmarks for data aggregation tasks: [https://duckdblabs.github.io/db-benchmark/](https://duckdblabs.github.io/db-benchmark/).\n",
    "\n",
    "<img src=\"https://raw.githubusercontent.com/TidierOrg/TidierCourse/main/why-julia/duckdb_benchmark.jpeg\" style=\"width:50%\"/>\n",
    "\n",
    "DuckDB and ClickHouse were two of the fastest tools, and while both are implemented in C++, their primary interface to users is in SQL. SQL is the *lingua franca* of databases, and it is important background knowledge as a data scientist to understand its syntax, which is the source of its popularity as well as its primary limitation.\n",
    "\n",
    "Let's say we have a dataset called `patients`, which has columns `diagnosis`, `takes_medications`, and `age`. Each row represents a unique patient, `diagnosis` is the primary diagnosis, `takes_medications` is a string indicating whether a patients takes any medications (\"yes\") or not (\"no\"), and `age` is their current age.\n",
    "\n",
    "To compare the mean age among patients with diabetes who take medications versus those who do not take medications, we would write the following in SQL:\n",
    "\n",
    "```SQL\n",
    "SELECT takes_medications, AVG(age) AS mean_age\n",
    "FROM patients\n",
    "WHERE diagnosis = 'diabetes'\n",
    "GROUP BY takes_medications;\n",
    "```\n",
    "\n",
    "The SQL syntax is fairly intuitive in that each verb (e.g., `SELECT`) has a clear purpose, and the full query itself reads a bit like a sentence that you could read aloud. However, hidden within this apparent simplicity is the fact that SQL queries don't actually run in the order in this order.\n",
    "\n",
    "The *actual* order in which this query runs is:\n",
    "\n",
    "1. `FROM patients`\n",
    "2. `WHERE diagnosis = 'diabetes'`\n",
    "3. `GROUP BY takes_medications`\n",
    "4. `SELECT takes_medications, AVG(age) AS mean_age`\n",
    "\n",
    "If you think about this, this makes sense. You first need to start with the dataset (`FROM patients`), then you need to limit the dataset to only those rows where the primary diagnosis is diabetes (`WHERE diagnosis = 'diabetes'`). Then, after grouping by whether or not a patient takes medications, we need to calculate the mean age for each group.\n",
    "\n",
    "The key lesson with SQL is:\n",
    "\n",
    "> The order in which you write the verbs in SQL is different from the order in which the verbs are processed by SQL.\n",
    "\n",
    "Much has been written about this issue (see: [https://jvns.ca/blog/2019/10/03/sql-queries-don-t-start-with-select/](https://jvns.ca/blog/2019/10/03/sql-queries-don-t-start-with-select/) and [https://www.flerlagetwins.com/2018/10/sql-part4.html](https://www.flerlagetwins.com/2018/10/sql-part4.html)).\n",
    "\n",
    "In case you're curious, this is a more complete comparison of how SQL queries are written vs. how they are processed by SQL.\n",
    "\n",
    "| What You Write in SQL | Order In Which It Runs |\n",
    "| ----------------------|------------------------|\n",
    "| SELECT                | FROM                   |\n",
    "| DISTINCT              | JOIN                   |\n",
    "| TOP                   | WHERE                  |\n",
    "| [AGGREGATION]         | GROUP BY               |\n",
    "| FROM                  | [AGGREGATION]          |\n",
    "| JOIN                  | HAVING                 |\n",
    "| WHERE                 | SELECT                 |\n",
    "| GROUP BY              | DISTINCT               |\n",
    "| HAVING                | ORDER BY               |\n",
    "| ORDER BY              | TOP / LIMIT            | "
   ]
  },
  {
   "cell_type": "markdown",
   "metadata": {},
   "source": [
    "## Why not run SQL queries in the same order they are written?\n",
    "\n",
    "While the fact that SQL queries form sentences that can be read aloud is convenient, this convenience comes at a cost. When queries get more complicated, they can no longer be read aloud, and the order of operations becomes much harder to keep track of. For more complex queries, it actually becomes cognitively less demanding to keep track of queries that are run in the same order that they are written.\n",
    "\n",
    "This idea of behind `PRQL` ([https://github.com/PRQL/prql](https://github.com/PRQL/prql)), which calls itself a \"simple, powerful, pipelined, SQL replacement.\" \n",
    "\n",
    "This same query in PRQL would be written as:\n",
    "\n",
    "```\n",
    "from patients\n",
    "filter diagnosis == \"diabetes\"\n",
    "group {takes_medications}\n",
    "aggregate {age = avg age}\n",
    "```\n",
    "\n",
    "The fact that the analytic steps are written in the same order as they are performed seems trivial, but this is the big idea behind data pipelines. A data pipeline starts with a dataset, and each function transforms the data in a specific way until the end result answers an analytical question."
   ]
  },
  {
   "cell_type": "markdown",
   "metadata": {},
   "source": [
    "## Modern data pipelines\n",
    "\n",
    "Data pipelines were popularized by the `dplyr` and `ggplot2` R packages, which are two of the core packages that make up the `tidyverse` ecoystem in R. In fact, the `dplyr` R package was a key inspiration behind `PRQL` (see [https://prql-lang.org/faq/](https://prql-lang.org/faq/)). While `PRQL` brings the idea of data pipelines to a `SQL` syntax, modern data pipelines are much more expansive in their capabilities.\n",
    "\n",
    "While all data pipelines *start* with a dataset, they don't need to *end* with a dataset. Modern data pipelines often end with plots (as in `ggplot2` in R), statistical analyses, machine learning models, and more. These more advanced types of data pipelines is where SQL-like languages (like PRQL) show their limitations. While great for transforming data, SQL-like langauges do not have facilities for plotting and machine learning.\n",
    "\n",
    "Data pipelines implemented in a programming language like Python, R, or Julia are thus much more capable than in PRQL."
   ]
  },
  {
   "cell_type": "markdown",
   "metadata": {},
   "source": [
    "## Summary\n",
    "\n",
    "- The Structured Query Language (SQL) is a popular way of working with datasets\n",
    "- SQL's simple-to-read syntax introduces complexity because the order in which SQL queries are written is different from the order in which SQL queries are run\n",
    "- PRQL is a SQL-like language that implements data pipelines\n",
    "- Data pipelines refer to data analysis pathways that start with a dataset and then sequentially transform the dataset\n",
    "- While data pipelines start with a dataset, modern data pipelines end with plots, statistical analyses, and machine learning models."
   ]
  }
 ],
 "metadata": {
  "kernelspec": {
   "display_name": "Julia 1.9.1",
   "language": "julia",
   "name": "julia-1.9"
  },
  "language_info": {
   "file_extension": ".jl",
   "mimetype": "application/julia",
   "name": "julia",
   "version": "1.9.1"
  }
 },
 "nbformat": 4,
 "nbformat_minor": 2
}
