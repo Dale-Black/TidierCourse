{
 "cells": [
  {
   "cell_type": "markdown",
   "metadata": {},
   "source": [
    "# Tidier Course: Why Julia?\n",
    "\n",
    "<img src=\"https://raw.githubusercontent.com/TidierOrg/.github/main/profile/TidierOrg_logo.png\" align=\"left\" style=\"padding-right:10x;\" width=\"150\"/>"
   ]
  },
  {
   "cell_type": "markdown",
   "metadata": {},
   "source": [
    "## Preface\n",
    "\n",
    "Welcome to the **Tidier Course**, an interactive course designed to introduce you to Julia and the Tidier ecosystem for data analysis. The course consists of a series of Jupyter Notebooks so that you can both learn and practice how to write Julia code through real data science examples.\n",
    "\n",
    "This course assumes a basic level of familiarity with programming but does not assume any prior knowledge of Julia. This course emphasizes the parts of Julia required to read in, explore, and analyze data. Because this course is primarily oriented around data science, many important aspects of Julia will *not* be covered in this course.\n",
    "\n",
    "If you do happen to have familiarity with either R or Python, we will make a concerted effort to highlight ways in which Julia is both *similar* to and *different* from both of these languages. If Julia is the first language you're learning for data science, this course should tell you most of what you'll need to know."
   ]
  },
  {
   "cell_type": "markdown",
   "metadata": {},
   "source": [
    "## Why Julia?\n",
    "\n",
    "Clearly, Python and R are more commonly used languages, so it's a natural question to ask: **why use Julia?**\n",
    "\n",
    "While Julia has many virtues as a language, probably the most important one is this: it has a fairly simple syntax resembling a mix of Python and R, but unlike either of this languages, it's **much faster** out of the box. If you've used either Python and R, you may wonder how this could  be true. Both Python and R *seem* to be quite speedy to work with, especially when you're working with modern data science packages.\n",
    "\n",
    "For example, let's take a look at recent h2o/DuckDB benchmarks for data aggregation tasks: [https://duckdblabs.github.io/db-benchmark/](https://duckdblabs.github.io/db-benchmark/).\n",
    "\n",
    "<img src=\"https://raw.githubusercontent.com/TidierOrg/TidierCourse/main/why-julia/duckdb_benchmark.jpeg\" style=\"width:50%\"/>\n",
    "\n",
    "For grouped aggregation tasks on a 50 GB data frame, the fastest solutions are:\n",
    "\n",
    "- DuckDB: available in Python, R, and Julia\n",
    "- Polars: available in Python and Rust\n",
    "- ClickHouse: standalone solution\n",
    "- DataFrames.jl: available in Julia\n",
    "- data.table: available in R\n",
    "\n",
    "Let's take a closer look at each one of these.\n",
    "\n",
    "**DuckDB** and **ClickHouse** are examples of database management systems in which data frames represented in memory can be accessed using the Structured Query Language (SQL). DuckDB is an especially popular tool because it comes with companion packages in Python, R, and Julia. **Polars** is most commonly accessed using a Python package, and the speed of polars has led to an interesting moment in the Python community, where the **pandas** package remains very popular despite being among the slower-performing tools on this benchmark. The **data.table** was originally distributed as an R package, with a slower-performing Python port available in the form of the **pydatatable** package. And then there's the **DataFrames.jl** package, which is the fastest Julia solution for this benchmark and among the top tools overall.\n",
    "\n",
    "While these all seem roughly similar, there is one aspect of the Julia **DataFrames.jl** package that sets it apart. To appreciate this, we need to take another look at how each of these packages is implemented behind the scenes. \n",
    "\n",
    "How are each of these tools implemented?\n",
    "\n",
    "- DuckDB: implemented in C++\n",
    "- Polars: implemented in Rust\n",
    "- ClickHouse: implemented in C++\n",
    "- DataFrames.jl: implemented in Julia\n",
    "- data.table: implemented in C\n",
    "\n",
    "Even though the users may work with a package like DuckDB in Python or R, the speed of this package actually comes from C++ code. And while C++ has many virtues as a memory-safe, production-ready programming language, it is generally not anyone's first choice as a data science language.\n",
    "\n",
    "And if you were to decide you wanted to improve DuckDB to make it work better, you couldn't necessarily do this even if you were an expert in both Python and R. You'd need to learn C++. Well, that's perhaps a bit of an oversimplification. In reality, because DuckDB is an open-source project, you could open a GitHub issue suggesting a new feature and rely on their capable team to implement it.\n",
    "\n",
    "But the larger point is still valid:\n",
    "\n",
    "> **DataFrames.jl** is the *only* fast data analysis tool written in the same language as its user base.\n",
    "\n",
    "(While polars *can* be used directly in Rust, its user base largely consists of Python users.)"
   ]
  },
  {
   "cell_type": "markdown",
   "metadata": {},
   "source": [
    "## The two-language problem\n",
    "\n",
    "Data scientists generally prefer languages with a concise syntax (like Python and R), but a lot of the speed in Python and R packages comes from using faster languages like C, C++, and Rust.\n",
    "\n",
    "This tension between the frontend language (the one used by the data scientist) and the backend language (the one used in implementing the tool to make it run fast) has been termed the \"two-language problem.\" \n",
    "\n",
    "Because the backend language does all the hard computational work, the frontend language is sometimes referred to (with a hint of disdain) as the \"glue\" language. The entire purpose of the glue language is to glue together the bits of backend code.\n",
    "\n",
    "What's unique about Julia is that it is **both a glue language and a backend language**. How is this possible?\n",
    "\n",
    "Like Python and R, Julia has a concise syntax. Similar to C, C++, and Rust, Julia is compiled, which allows optimizations that help code run really fast. But unlike C, C++, and Rust, there is no \"Compile\" button that you need to press. Julia is compiled on-the-fly as you use it. This means that you get the benefits of both concise syntax and speed."
   ]
  },
  {
   "cell_type": "markdown",
   "metadata": {},
   "source": [
    "## What are the downsides of Julia?\n",
    "\n",
    "The two downsides of using Julia are:\n",
    "\n",
    "- It has a less robust package ecosystem than R or Python.\n",
    "- Because code needs to compile before it runs, there is sometimes a lag associated with the first time code runs.\n",
    "\n",
    "Both of these are fairly minor and readily addressed.\n",
    "\n",
    "Between `PyCall.jl`, `PythonCall.jl`, and `RCall.jl`, you can access all Python and R packages using Julia syntax. While this might seem like a bit of a cop-out, it's actually the best of both worlds. You get access to packages from more established languages without having to worry about your glue language being slow. If anything, your glue language may be *faster* than the underlying Python or R code that you're calling.\n",
    "\n",
    "The issue of code compilation used to be a major problem in Julia until recently. As of version 1.9+, Julia packages are able to precompile their code and save it. This does mean that packages take a bit longer to install, but once installed, packages taking advantage of this precompilation run fast right from the beginning. While you may notice a momentary pause when running new functions that you've defined, most major Julia packages (including DataFrames.jl) take advantage of this precompilation."
   ]
  },
  {
   "cell_type": "markdown",
   "metadata": {},
   "source": [
    "## Summary\n",
    "\n",
    "In this section, we learned that:\n",
    "\n",
    "- Julia has a simple and concise syntax, like Python and R\n",
    "- Julia is fast, like C, C++, and Rust\n",
    "- Julia plays nicely with both Python and R packages, giving you access to the full breadth of data science packages\n",
    "\n",
    "<!--<details><summary>Click here to learn more</summary>\n",
    "More</details>-->"
   ]
  }
 ],
 "metadata": {
  "kernelspec": {
   "display_name": "Julia 1.9.1",
   "language": "julia",
   "name": "julia-1.9"
  },
  "language_info": {
   "file_extension": ".jl",
   "mimetype": "application/julia",
   "name": "julia",
   "version": "1.9.1"
  }
 },
 "nbformat": 4,
 "nbformat_minor": 2
}
