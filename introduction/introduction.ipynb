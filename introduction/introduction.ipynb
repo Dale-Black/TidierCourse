{
 "cells": [
  {
   "cell_type": "markdown",
   "metadata": {},
   "source": [
    "# Tidier Course: Introduction\n",
    "\n",
    "<img src=\"https://raw.githubusercontent.com/TidierOrg/.github/main/profile/TidierOrg_logo.png\" align=\"left\" style=\"padding-right:10x;\" width=\"150\"/>"
   ]
  },
  {
   "cell_type": "markdown",
   "metadata": {},
   "source": [
    "## Preface\n",
    "\n",
    "Welcome to the **Tidier Course**, an interactive course designed to introduce you to Julia and the Tidier ecosystem for data analysis. The course consists of a series of Jupyter Notebooks so that you can both learn and practice how to write Julia code through real data science examples.\n",
    "\n",
    "This course assumes a basic level of familiarity with programming but does not assume any prior knowledge of Julia. This course emphasizes the parts of Julia required to read in, explore, and analyze data. Because this course is primarily oriented around data science, many important aspects of Julia will *not* be covered in this course.\n",
    "\n",
    "If you do happen to have familiarity with either R or Python, we will make a concerted effort to highlight ways in which Julia is both *similar* to and *different* from both of these languages. If Julia is the first language you're learning for data science, this course should tell you most of what you'll need to know.\n",
    "\n",
    "## Why Julia?\n",
    "\n",
    "Clearly, Python and R are more commonly used languages, so it's a natural question to ask: **why use Julia?**\n",
    "\n",
    "While Julia has many virtues as a language, probably the most important one is this: it has a fairly simple syntax resembling a mix of Python and R, but unlike either of this languages, it's **much faster** out of the box. If you've used either Python and R, you may wonder how this could  be true. Both Python and R *seem* to be quite speedy to work with. In fact,\n",
    "\n",
    "\n",
    "<img src=\"https://raw.githubusercontent.com/TidierOrg/TidierCourse/main/introduction/duckdb_benchmark.jpeg\"/>\n",
    "\n",
    "\n",
    "But a lot of this speed comes from using faster languages like C, C++, and Rust under the hood.\n",
    "\n",
    "\n",
    "<details><summary>Click here to learn more</summary>\n",
    "More</details>"
   ]
  },
  {
   "cell_type": "code",
   "execution_count": 1,
   "metadata": {},
   "outputs": [
    {
     "data": {
      "text/plain": [
       "2"
      ]
     },
     "metadata": {},
     "output_type": "display_data"
    }
   ],
   "source": [
    "1+1"
   ]
  }
 ],
 "metadata": {
  "kernelspec": {
   "display_name": "Julia 1.9.1",
   "language": "julia",
   "name": "julia-1.9"
  },
  "language_info": {
   "file_extension": ".jl",
   "mimetype": "application/julia",
   "name": "julia",
   "version": "1.9.1"
  }
 },
 "nbformat": 4,
 "nbformat_minor": 2
}
